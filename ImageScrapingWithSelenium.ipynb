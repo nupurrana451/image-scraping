{
 "cells": [
  {
   "cell_type": "markdown",
   "id": "7107a706-c860-4015-a54d-f6b0ad6a15ec",
   "metadata": {},
   "source": [
    "Image Scraping using selenium\n",
    "This is a project scraping images from comic website from the latest page till the first page"
   ]
  },
  {
   "cell_type": "code",
   "execution_count": 5,
   "id": "f8a2b082-762a-47bc-90b7-7426c41369bf",
   "metadata": {},
   "outputs": [],
   "source": [
    "#importing libraries\n",
    "\n",
    "import requests\n",
    "from selenium import webdriver\n",
    "from selenium.webdriver.chrome.service import Service\n",
    "from selenium.webdriver.common.by import By\n",
    "import pandas as pd\n",
    "import time\n",
    "import os"
   ]
  },
  {
   "cell_type": "code",
   "execution_count": 3,
   "id": "b788738d-d85e-4696-af60-652f3ba66314",
   "metadata": {},
   "outputs": [],
   "source": [
    "#inserting the url of the website from where you want to download the images\n",
    "url='https://xkcd.com/5/' "
   ]
  },
  {
   "cell_type": "code",
   "execution_count": 6,
   "id": "91b2c314-e8af-4329-97d5-2419ba00dc15",
   "metadata": {},
   "outputs": [
    {
     "name": "stdout",
     "output_type": "stream",
     "text": [
      "Reached first comic. Exiting.\n"
     ]
    }
   ],
   "source": [
    "#making a folder on your computer for saving the images\n",
    "os.makedirs(\"comic_series\", exist_ok=True)\n",
    "\n",
    "#install the chromedriver first\n",
    "service=Service(r\"chromedriver") #insert chromedriver location on your device\n",
    "driver=webdriver.Chrome(service=service)\n",
    "driver.get(url)\n",
    "time.sleep(3)\n",
    "\n",
    "while True:\n",
    "    comic_img=driver.find_element(By.CSS_SELECTOR,\"#comic img\")\n",
    "    img_url=comic_img.get_attribute('src')\n",
    "    \n",
    "    img_data = requests.get(img_url).content\n",
    "    current_url = driver.current_url.strip(\"/\")\n",
    "    comic_number = current_url.split(\"/\")[-1] if current_url != \"https://xkcd.com\" else \"latest\"\n",
    "    filename = os.path.join(\"comic_series\", f\"xkcd_{comic_number}.png\")\n",
    "    with open(filename,\"wb\") as f:\n",
    "        f.write(img_data)\n",
    "    if current_url == \"https://xkcd.com/1\":\n",
    "        print(\"Reached first comic. Exiting.\")\n",
    "        break\n",
    "    prev_button = driver.find_element(By.CSS_SELECTOR, 'a[rel=\"prev\"]')\n",
    "    prev_button.click()\n",
    "    time.sleep(2)\n",
    "driver.quit()"
   ]
  }
 ],
 "metadata": {
  "kernelspec": {
   "display_name": "Python 3 (ipykernel)",
   "language": "python",
   "name": "python3"
  },
  "language_info": {
   "codemirror_mode": {
    "name": "ipython",
    "version": 3
   },
   "file_extension": ".py",
   "mimetype": "text/x-python",
   "name": "python",
   "nbconvert_exporter": "python",
   "pygments_lexer": "ipython3",
   "version": "3.12.4"
  }
 },
 "nbformat": 4,
 "nbformat_minor": 5
}
